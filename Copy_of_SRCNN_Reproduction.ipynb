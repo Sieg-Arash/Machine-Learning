{
  "nbformat": 4,
  "nbformat_minor": 0,
  "metadata": {
    "colab": {
      "name": "Copy of SRCNN_Reproduction.ipynb",
      "version": "0.3.2",
      "provenance": [],
      "collapsed_sections": [],
      "include_colab_link": true
    },
    "kernelspec": {
      "name": "python3",
      "display_name": "Python 3"
    },
    "accelerator": "TPU"
  },
  "cells": [
    {
      "cell_type": "markdown",
      "metadata": {
        "id": "view-in-github",
        "colab_type": "text"
      },
      "source": [
        "<a href=\"https://colab.research.google.com/github/Sieg-Arash/Machine-Learning/blob/master/Copy_of_SRCNN_Reproduction.ipynb\" target=\"_parent\"><img src=\"https://colab.research.google.com/assets/colab-badge.svg\" alt=\"Open In Colab\"/></a>"
      ]
    },
    {
      "cell_type": "code",
      "metadata": {
        "id": "BMZ0OAs6V7Vu",
        "colab_type": "code",
        "colab": {}
      },
      "source": [
        "# SRCNN Test in Google Colab\n",
        "# Upload zip file\n",
        "src = list(files.upload().values())[0]\n",
        "#!unzip yang91.zip"
      ],
      "execution_count": 0,
      "outputs": []
    },
    {
      "cell_type": "code",
      "metadata": {
        "id": "CWRoHXEumsGw",
        "colab_type": "code",
        "outputId": "acf54800-6248-4e25-ed0f-3dc832262878",
        "colab": {
          "base_uri": "https://localhost:8080/",
          "height": 53
        }
      },
      "source": [
        "!pip install pillow\n"
      ],
      "execution_count": 0,
      "outputs": [
        {
          "output_type": "stream",
          "text": [
            "Requirement already satisfied: pillow in /usr/local/lib/python3.6/dist-packages (4.3.0)\n",
            "Requirement already satisfied: olefile in /usr/local/lib/python3.6/dist-packages (from pillow) (0.46)\n"
          ],
          "name": "stdout"
        }
      ]
    },
    {
      "cell_type": "code",
      "metadata": {
        "id": "KGD50gh5lTRq",
        "colab_type": "code",
        "outputId": "66f5267b-90fc-4887-c135-330aaf8ffe0d",
        "colab": {
          "base_uri": "https://localhost:8080/",
          "height": 35
        }
      },
      "source": [
        "from google.colab import files\n",
        "import keras.backend as K\n",
        "from keras.models import Sequential, Model\n",
        "from keras.layers import Dense, Conv2D, Activation, Input\n",
        "from keras import optimizers\n",
        "from keras.models import load_model\n",
        "from keras.utils import plot_model\n",
        "import numpy as np\n",
        "import scipy.misc\n",
        "import scipy.ndimage\n",
        "import cv2\n",
        "import math\n",
        "import glob\n",
        "import matplotlib.pyplot as plt\n",
        "import copy"
      ],
      "execution_count": 0,
      "outputs": [
        {
          "output_type": "stream",
          "text": [
            "Using TensorFlow backend.\n"
          ],
          "name": "stderr"
        }
      ]
    },
    {
      "cell_type": "code",
      "metadata": {
        "id": "YBDiFqEFBKe8",
        "colab_type": "code",
        "outputId": "03e215d6-b645-4929-db9e-508aa353f2cc",
        "colab": {
          "base_uri": "https://localhost:8080/",
          "height": 127
        }
      },
      "source": [
        "from google.colab import drive\n",
        "drive.mount('/content/drive')"
      ],
      "execution_count": 0,
      "outputs": [
        {
          "output_type": "stream",
          "text": [
            "Go to this URL in a browser: https://accounts.google.com/o/oauth2/auth?client_id=947318989803-6bn6qk8qdgf4n4g3pfee6491hc0brc4i.apps.googleusercontent.com&redirect_uri=urn%3Aietf%3Awg%3Aoauth%3A2.0%3Aoob&scope=email%20https%3A%2F%2Fwww.googleapis.com%2Fauth%2Fdocs.test%20https%3A%2F%2Fwww.googleapis.com%2Fauth%2Fdrive%20https%3A%2F%2Fwww.googleapis.com%2Fauth%2Fdrive.photos.readonly%20https%3A%2F%2Fwww.googleapis.com%2Fauth%2Fpeopleapi.readonly&response_type=code\n",
            "\n",
            "Enter your authorization code:\n",
            "··········\n",
            "Mounted at /content/drive\n"
          ],
          "name": "stdout"
        }
      ]
    },
    {
      "cell_type": "code",
      "metadata": {
        "id": "m9DSLlvhErqE",
        "colab_type": "code",
        "colab": {}
      },
      "source": [
        "plot_model(model)"
      ],
      "execution_count": 0,
      "outputs": []
    },
    {
      "cell_type": "code",
      "metadata": {
        "id": "mkQu65Cej3Bv",
        "colab_type": "code",
        "outputId": "4a598498-9a08-4f04-de3b-934998082413",
        "colab": {
          "base_uri": "https://localhost:8080/",
          "height": 143
        }
      },
      "source": [
        "import matplotlib.pyplot as plt\n",
        "\n",
        "history =model.fit(X_train, Y_train, batch_size = 16, epochs = 3, validation_data=(X_val, Y_val),verbose=1)\n",
        "\n",
        "# # 绘制训练 & 验证的准确率值\n",
        "# plt.plot(history.history['acc'])\n",
        "# plt.plot(history.history['val_acc'])\n",
        "# plt.title('Model accuracy')\n",
        "# plt.ylabel('Accuracy')\n",
        "# plt.xlabel('Epoch')\n",
        "# plt.legend(['Train', 'Test'], loc='upper left')\n",
        "# plt.show()\n",
        "\n"
      ],
      "execution_count": 0,
      "outputs": [
        {
          "output_type": "stream",
          "text": [
            "Train on 15959 samples, validate on 1243 samples\n",
            "Epoch 1/3\n",
            "15959/15959 [==============================] - 111s 7ms/step - loss: 473.6877 - val_loss: 335.3044\n",
            "Epoch 2/3\n",
            "15959/15959 [==============================] - 110s 7ms/step - loss: 353.8565 - val_loss: 292.2726\n",
            "Epoch 3/3\n",
            "15959/15959 [==============================] - 109s 7ms/step - loss: 323.1272 - val_loss: 272.8585\n"
          ],
          "name": "stdout"
        }
      ]
    },
    {
      "cell_type": "code",
      "metadata": {
        "id": "uGuUcyURkr5M",
        "colab_type": "code",
        "outputId": "52eae001-15bd-4f82-c0df-cb35558f30ba",
        "colab": {
          "base_uri": "https://localhost:8080/",
          "height": 295
        }
      },
      "source": [
        "# 绘制训练 & 验证的损失值\n",
        "plt.plot(history.history['loss'])\n",
        "plt.plot(history.history['val_loss'])\n",
        "plt.title('Model loss')\n",
        "plt.ylabel('Loss')\n",
        "plt.xlabel('Epoch')\n",
        "plt.legend(['Train', 'Test'], loc='upper left')\n",
        "plt.show()"
      ],
      "execution_count": 0,
      "outputs": [
        {
          "output_type": "display_data",
          "data": {
            "image/png": "[encoded data removed]",
            "text/plain": [
              "<Figure size 432x288 with 1 Axes>"
            ]
          },
          "metadata": {
            "tags": []
          }
        }
      ]
    },
    {
      "cell_type": "code",
      "metadata": {
        "id": "Ezw_9NW-oCGx",
        "colab_type": "code",
        "outputId": "de75f478-cb97-4854-82e4-14dc513357b4",
        "colab": {
          "base_uri": "https://localhost:8080/",
          "height": 121
        }
      },
      "source": [
        "scipy.misc.toimage()\n",
        "plt.imshow()\n",
        "%%writefile model.py\n",
        "!cat main.py\n",
        "FLAGS.remove_flag_values(FLAGS.flag_values_dict())"
      ],
      "execution_count": 0,
      "outputs": [
        {
          "output_type": "stream",
          "text": [
            "/usr/local/lib/python3.6/dist-packages/ipykernel_launcher.py:1: DeprecationWarning: `toimage` is deprecated!\n",
            "`toimage` is deprecated in SciPy 1.0.0, and will be removed in 1.2.0.\n",
            "Use Pillow's ``Image.fromarray`` directly instead.\n",
            "  \"\"\"Entry point for launching an IPython kernel.\n"
          ],
          "name": "stderr"
        },
        {
          "output_type": "execute_result",
          "data": {
            "image/png": "[encoded data removed]",
            "text/plain": [
              "<PIL.Image.Image image mode=L size=32x32 at 0x7F4763CAD0B8>"
            ]
          },
          "metadata": {
            "tags": []
          },
          "execution_count": 68
        }
      ]
    },
    {
      "cell_type": "code",
      "metadata": {
        "id": "QkOwNOX1o7KN",
        "colab_type": "code",
        "outputId": "3ba77a32-9ef2-4016-e432-06a578658c00",
        "colab": {
          "base_uri": "https://localhost:8080/",
          "height": 173
        }
      },
      "source": [
        "FLAGS.remove_flag_values(FLAGS.flag_values_dict())"
      ],
      "execution_count": 0,
      "outputs": [
        {
          "output_type": "error",
          "ename": "NameError",
          "evalue": "ignored",
          "traceback": [
            "\u001b[0;31m---------------------------------------------------------------------------\u001b[0m",
            "\u001b[0;31mNameError\u001b[0m                                 Traceback (most recent call last)",
            "\u001b[0;32m<ipython-input-13-b090619603d4>\u001b[0m in \u001b[0;36m<module>\u001b[0;34m()\u001b[0m\n\u001b[0;32m----> 1\u001b[0;31m \u001b[0mFLAGS\u001b[0m\u001b[0;34m.\u001b[0m\u001b[0mremove_flag_values\u001b[0m\u001b[0;34m(\u001b[0m\u001b[0mFLAGS\u001b[0m\u001b[0;34m.\u001b[0m\u001b[0mflag_values_dict\u001b[0m\u001b[0;34m(\u001b[0m\u001b[0;34m)\u001b[0m\u001b[0;34m)\u001b[0m\u001b[0;34m\u001b[0m\u001b[0;34m\u001b[0m\u001b[0m\n\u001b[0m",
            "\u001b[0;31mNameError\u001b[0m: name 'FLAGS' is not defined"
          ]
        }
      ]
    },
    {
      "cell_type": "code",
      "metadata": {
        "id": "gsn1LffxtxCJ",
        "colab_type": "code",
        "outputId": "6e6bb7e1-e333-4b42-bb5d-8d2a3a66dbf6",
        "colab": {
          "base_uri": "https://localhost:8080/",
          "height": 107
        }
      },
      "source": [
        "!git clone https://github.com/yifanw90/FSRCNN-TensorFlow\n",
        "  \n",
        "  "
      ],
      "execution_count": 0,
      "outputs": [
        {
          "output_type": "stream",
          "text": [
            "Cloning into 'FSRCNN-TensorFlow'...\n",
            "remote: Enumerating objects: 176, done.\u001b[K\n",
            "remote: Total 176 (delta 0), reused 0 (delta 0), pack-reused 176\u001b[K\n",
            "Receiving objects: 100% (176/176), 19.26 MiB | 30.43 MiB/s, done.\n",
            "Resolving deltas: 100% (37/37), done.\n"
          ],
          "name": "stdout"
        }
      ]
    },
    {
      "cell_type": "code",
      "metadata": {
        "id": "Bfsrefq6o8le",
        "colab_type": "code",
        "colab": {}
      },
      "source": [
        "!python3 expand_data0.py Train"
      ],
      "execution_count": 0,
      "outputs": []
    },
    {
      "cell_type": "code",
      "metadata": {
        "id": "FFANlvFbvsHu",
        "colab_type": "code",
        "outputId": "faa58930-aba4-434d-e3f4-f26c19aeeb80",
        "colab": {
          "base_uri": "https://localhost:8080/",
          "height": 35
        }
      },
      "source": [
        "%cd FSRCNN-TensorFlow"
      ],
      "execution_count": 0,
      "outputs": [
        {
          "output_type": "stream",
          "text": [
            "/content/FSRCNN-TensorFlow\n"
          ],
          "name": "stdout"
        }
      ]
    },
    {
      "cell_type": "code",
      "metadata": {
        "id": "O88PalJPwCHV",
        "colab_type": "code",
        "outputId": "9c597f64-f219-4238-e345-c118250ecd8d",
        "colab": {
          "base_uri": "https://localhost:8080/",
          "height": 35
        }
      },
      "source": [
        "%%writefile expand_data.py\n",
        "import os\n",
        "import sys\n",
        "import glob\n",
        "import numpy as np\n",
        "from PIL import Image\n",
        "import pdb\n",
        "\n",
        "# Artifically expands the dataset by a factor of 19 by scaling and then rotating every image\n",
        "def main():\n",
        "  if len(sys.argv) == 2:\n",
        "    data = prepare_data(sys.argv[1])\n",
        "  else:\n",
        "    print(\"Missing argument: You must specify a folder with images to expand\")\n",
        "    return\n",
        "\n",
        "  for i in range(len(data)):\n",
        "    scale(data[i])\n",
        "    rotate(data[i])\n",
        "\n",
        "def prepare_data(dataset):\n",
        "  filenames = os.listdir(dataset)\n",
        "  data_dir = os.path.join(os.getcwd(), dataset)\n",
        "  data = glob.glob(os.path.join(data_dir, \"*.bmp\"))\n",
        "\n",
        "  return data\n",
        "\n",
        "def scale(file):\n",
        "  image = Image.open(file)\n",
        "  width, height = image.size\n",
        "\n",
        "  scales = [0.9, 0.8, 0.7, 0.6]\n",
        "  for scale in scales:\n",
        "    new_width, new_height = int(width * scale), int(height * scale)\n",
        "    new_image = image.resize((new_width, new_height), Image.ANTIALIAS)\n",
        "    new_path = '{}-{}.bmp'.format(file[:-4], scale)\n",
        "    new_image.save(new_path)\n",
        "\n",
        "def rotate(file):\n",
        "  image = Image.open(file)\n",
        "\n",
        "  rotations = [90, 180, 270]\n",
        "  for rotation in rotations:\n",
        "    new_image = image.rotate(rotation, expand=True)\n",
        "    new_path = '{}-{}.bmp'.format(file[:-4], rotation)\n",
        "    new_image.save(new_path)\n",
        "\n",
        "if __name__ == '__main__':\n",
        "  main()\n",
        " \n"
      ],
      "execution_count": 0,
      "outputs": [
        {
          "output_type": "stream",
          "text": [
            "Overwriting expand_data.py\n"
          ],
          "name": "stdout"
        }
      ]
    },
    {
      "cell_type": "code",
      "metadata": {
        "id": "n9YTbFph1fhm",
        "colab_type": "code",
        "colab": {}
      },
      "source": [
        "warnings.filterwarnings('error')"
      ],
      "execution_count": 0,
      "outputs": []
    },
    {
      "cell_type": "code",
      "metadata": {
        "id": "nzzTEJlXxUxo",
        "colab_type": "code",
        "outputId": "59cca374-3a02-442b-b792-efcba066815f",
        "colab": {
          "base_uri": "https://localhost:8080/",
          "height": 793
        }
      },
      "source": [
        "!python3  main.py "
      ],
      "execution_count": 0,
      "outputs": [
        {
          "output_type": "stream",
          "text": [
            "{'batch_size': <absl.flags._flag.Flag object at 0x7f7ccb4302b0>,\n",
            " 'c_dim': <absl.flags._flag.Flag object at 0x7f7ca2f8ebe0>,\n",
            " 'checkpoint_dir': <absl.flags._flag.Flag object at 0x7f7ca2f8edd8>,\n",
            " 'data_dir': <absl.flags._flag.Flag object at 0x7f7ca2f8eeb8>,\n",
            " 'epoch': <absl.flags._flag.Flag object at 0x7f7ccb4297b8>,\n",
            " 'fast': <absl.flags._flag.BooleanFlag object at 0x7f7ccb403668>,\n",
            " 'h': <tensorflow.python.platform.app._HelpFlag object at 0x7f7ca2fa2128>,\n",
            " 'help': <tensorflow.python.platform.app._HelpFlag object at 0x7f7ca2fa2128>,\n",
            " 'helpfull': <tensorflow.python.platform.app._HelpfullFlag object at 0x7f7ca2fa2198>,\n",
            " 'helpshort': <tensorflow.python.platform.app._HelpshortFlag object at 0x7f7ca2fa2208>,\n",
            " 'learning_rate': <absl.flags._flag.Flag object at 0x7f7ca2f80208>,\n",
            " 'momentum': <absl.flags._flag.Flag object at 0x7f7ca2f802b0>,\n",
            " 'output_dir': <absl.flags._flag.Flag object at 0x7f7ca2f8ee48>,\n",
            " 'params': <absl.flags._flag.BooleanFlag object at 0x7f7ca2fa2048>,\n",
            " 'scale': <absl.flags._flag.Flag object at 0x7f7ca2f8ec88>,\n",
            " 'stride': <absl.flags._flag.Flag object at 0x7f7ca2f8ed30>,\n",
            " 'threads': <absl.flags._flag.Flag object at 0x7f7ca2f8efd0>,\n",
            " 'train': <absl.flags._flag.BooleanFlag object at 0x7f7ca2f8ef28>}\n",
            "2019-05-23 09:03:50.227228: I tensorflow/core/platform/profile_utils/cpu_utils.cc:94] CPU Frequency: 2300000000 Hz\n",
            "2019-05-23 09:03:50.227457: I tensorflow/compiler/xla/service/service.cc:150] XLA service 0x2af69a0 executing computations on platform Host. Devices:\n",
            "2019-05-23 09:03:50.227491: I tensorflow/compiler/xla/service/service.cc:158]   StreamExecutor device (0): <undefined>, <undefined>\n",
            "WARNING:tensorflow:From /usr/local/lib/python3.6/dist-packages/tensorflow/python/framework/op_def_library.py:263: colocate_with (from tensorflow.python.framework.ops) is deprecated and will be removed in a future version.\n",
            "Instructions for updating:\n",
            "Colocations handled automatically by placer.\n",
            "WARNING:tensorflow:From /usr/local/lib/python3.6/dist-packages/tensorflow/python/ops/math_ops.py:3066: to_int32 (from tensorflow.python.ops.math_ops) is deprecated and will be removed in a future version.\n",
            "Instructions for updating:\n",
            "Use tf.cast instead.\n",
            " [*] Reading checkpoints...\n",
            " [!] Load failed...\n",
            "Beginning training setup...\n",
            "<class 'int'> <class 'int'> <class 'int'>\n",
            "Training setup took 0.8838975429534912 seconds with 1 threads\n",
            "Total setup time took 0.8876104354858398 seconds with 1 threads\n",
            "Training...\n",
            "Epoch: [ 2], step: [10], time: [0.8437], loss: [4.15879107]\n",
            "Epoch: [ 4], step: [20], time: [1.5094], loss: [5.02475309]\n",
            "Epoch: [ 5], step: [30], time: [2.1796], loss: [2.61630821]\n",
            "Epoch: [ 7], step: [40], time: [2.8497], loss: [2.63520789]\n",
            "Epoch: [ 9], step: [50], time: [3.5227], loss: [1.22016263]\n",
            "checkpoint/fsrcnn_21/FSRCNN.model\n",
            "Epoch: [10], step: [60], time: [4.2812], loss: [1.10474396]\n",
            "Start Average: [7.837587], End Average: [1.337930], Improved: [82.93%]\n"
          ],
          "name": "stdout"
        }
      ]
    },
    {
      "cell_type": "code",
      "metadata": {
        "id": "fGO9uQKLr0U4",
        "colab_type": "code",
        "outputId": "3d163b1d-fc8e-498c-81a6-e4d63a671c4e",
        "colab": {
          "base_uri": "https://localhost:8080/",
          "height": 35
        }
      },
      "source": [
        "%%writefile model.py\n",
        "from utils import (\n",
        "  read_data, \n",
        "  thread_train_setup,\n",
        "  train_input_setup,\n",
        "  test_input_setup,\n",
        "  save_params,\n",
        "  merge,\n",
        "  array_image_save\n",
        ")\n",
        "\n",
        "import time\n",
        "import os\n",
        "\n",
        "import numpy as np\n",
        "import tensorflow as tf\n",
        "\n",
        "from PIL import Image\n",
        "import pdb\n",
        "\n",
        "# Based on http://mmlab.ie.cuhk.edu.hk/projects/FSRCNN.html\n",
        "class FSRCNN(object):\n",
        "  \n",
        "  def __init__(self, sess, config):\n",
        "    self.sess = sess\n",
        "    self.fast = config.fast\n",
        "    self.train = config.train\n",
        "    self.c_dim = config.c_dim\n",
        "    self.is_grayscale = (self.c_dim == 1)\n",
        "    self.epoch = config.epoch\n",
        "    self.scale = config.scale\n",
        "    self.stride = config.stride\n",
        "    self.batch_size = config.batch_size\n",
        "    self.learning_rate = config.learning_rate\n",
        "    self.momentum = config.momentum\n",
        "    self.threads = config.threads\n",
        "    self.params = config.params\n",
        "\n",
        "    # Different image/label sub-sizes for different scaling factors x2, x3, x4\n",
        "    scale_factors = [[14, 20], [11, 21], [10, 24]]\n",
        "    self.image_size, self.label_size = scale_factors[self.scale - 2]\n",
        "    # Testing uses different strides to ensure sub-images line up correctly\n",
        "    if not self.train:\n",
        "      self.stride = [10, 7, 6][self.scale - 2]\n",
        "\n",
        "    # Different model layer counts and filter sizes for FSRCNN vs FSRCNN-s (fast), (s, d, m) in paper\n",
        "    model_params = [[56, 12, 4], [32, 5, 1]]\n",
        "    self.model_params = model_params[self.fast]\n",
        "    \n",
        "    self.checkpoint_dir = config.checkpoint_dir\n",
        "    self.output_dir = config.output_dir\n",
        "    self.data_dir = config.data_dir\n",
        "    self.build_model()\n",
        "\n",
        "\n",
        "  def build_model(self):\n",
        "    self.images = tf.placeholder(tf.float32, [None, self.image_size, self.image_size, self.c_dim], name='images')\n",
        "    self.labels = tf.placeholder(tf.float32, [None, self.label_size, self.label_size, self.c_dim], name='labels')\n",
        "    # Batch size differs in training vs testing\n",
        "    self.batch = tf.placeholder(tf.int32, shape=[], name='batch')\n",
        "\n",
        "    # FSCRNN-s (fast) has smaller filters and less layers but can achieve faster performance\n",
        "    s, d, m = self.model_params\n",
        "\n",
        "    expand_weight, deconv_weight = 'w{}'.format(m + 3), 'w{}'.format(m + 4)\n",
        "    self.weights = {\n",
        "      'w1': tf.Variable(tf.random_normal([5, 5, 1, s], stddev=0.0378, dtype=tf.float32), name='w1'),\n",
        "      'w2': tf.Variable(tf.random_normal([1, 1, s, d], stddev=0.3536, dtype=tf.float32), name='w2'),\n",
        "      expand_weight: tf.Variable(tf.random_normal([1, 1, d, s], stddev=0.189, dtype=tf.float32), name=expand_weight),\n",
        "      deconv_weight: tf.Variable(tf.random_normal([9, 9, 1, s], stddev=0.0001, dtype=tf.float32), name=deconv_weight)\n",
        "    }\n",
        "\n",
        "    expand_bias, deconv_bias = 'b{}'.format(m + 3), 'b{}'.format(m + 4)\n",
        "    self.biases = {\n",
        "      'b1': tf.Variable(tf.zeros([s]), name='b1'),\n",
        "      'b2': tf.Variable(tf.zeros([d]), name='b2'),\n",
        "      expand_bias: tf.Variable(tf.zeros([s]), name=expand_bias),\n",
        "      deconv_bias: tf.Variable(tf.zeros([1]), name=deconv_bias)\n",
        "    }\n",
        "\n",
        "    # Create the m mapping layers weights/biases\n",
        "    for i in range(3, m + 3):\n",
        "      weight_name, bias_name = 'w{}'.format(i), 'b{}'.format(i)\n",
        "      self.weights[weight_name] = tf.Variable(tf.random_normal([3, 3, d, d], stddev=0.1179, dtype=tf.float32), name=weight_name)\n",
        "      self.biases[bias_name] = tf.Variable(tf.zeros([d]), name=bias_name)\n",
        "\n",
        "    self.pred = self.model()\n",
        "\n",
        "    # Loss function (MSE)\n",
        "    self.loss = tf.reduce_mean(tf.reduce_sum(tf.square(self.labels - self.pred), reduction_indices=0))\n",
        "    \n",
        "    self.saver = tf.train.Saver()\n",
        "\n",
        "  def run(self):\n",
        "    # SGD with momentum\n",
        "    self.train_op = tf.train.MomentumOptimizer(self.learning_rate, self.momentum).minimize(self.loss)\n",
        "\n",
        "    tf.global_variables_initializer().run()\n",
        "\n",
        "    if self.load(self.checkpoint_dir):\n",
        "      print(\" [*] Load SUCCESS\")\n",
        "    else:\n",
        "      print(\" [!] Load failed...\")\n",
        "\n",
        "    if self.params:\n",
        "      save_params(self.sess, self.weights, self.biases)\n",
        "    elif self.train:\n",
        "      self.run_train()\n",
        "    else:\n",
        "      self.run_test()\n",
        "\n",
        "  def run_train(self):\n",
        "    start_time = time.time()\n",
        "    print(\"Beginning training setup...\")\n",
        "    if self.threads == 1:\n",
        "      train_input_setup(self)\n",
        "    else:\n",
        "      thread_train_setup(self)\n",
        "    print(\"Training setup took {} seconds with {} threads\".format(time.time() - start_time, self.threads))\n",
        "\n",
        "    data_dir = os.path.join('./{}'.format(self.checkpoint_dir), \"train.h5\")\n",
        "    train_data, train_label = read_data(data_dir)\n",
        "    print(\"Total setup time took {} seconds with {} threads\".format(time.time() - start_time, self.threads))\n",
        "\n",
        "    print(\"Training...\")\n",
        "    start_time = time.time()\n",
        "    start_average, end_average, counter = 0, 0, 0\n",
        "\n",
        "    for ep in range(self.epoch):\n",
        "      # Run by batch images\n",
        "      batch_idxs = len(train_data) // self.batch_size\n",
        "      batch_average = 0\n",
        "      for idx in range(0, batch_idxs):\n",
        "        batch_images = train_data[idx * self.batch_size : (idx + 1) * self.batch_size]\n",
        "        batch_labels = train_label[idx * self.batch_size : (idx + 1) * self.batch_size]\n",
        "\n",
        "        counter += 1\n",
        "        _, err = self.sess.run([self.train_op, self.loss], feed_dict={self.images: batch_images, self.labels: batch_labels, self.batch: self.batch_size})\n",
        "        batch_average += err\n",
        "\n",
        "        if counter % 10 == 0:\n",
        "          print(\"Epoch: [%2d], step: [%2d], time: [%4.4f], loss: [%.8f]\" \\\n",
        "            % ((ep+1), counter, time.time() - start_time, err))\n",
        "\n",
        "        # Save every 500 steps\n",
        "        if counter % 50 == 0:\n",
        "          self.save(self.checkpoint_dir, counter)\n",
        "\n",
        "      batch_average = float(batch_average) / batch_idxs\n",
        "      if ep < (self.epoch * 0.2):\n",
        "        start_average += batch_average\n",
        "      elif ep >= (self.epoch * 0.8):\n",
        "        end_average += batch_average\n",
        "\n",
        "    # Compare loss of the first 20% and the last 20% epochs\n",
        "    start_average = float(start_average) / (self.epoch * 0.2)\n",
        "    end_average = float(end_average) / (self.epoch * 0.2)\n",
        "    print(\"Start Average: [%.6f], End Average: [%.6f], Improved: [%.2f%%]\" \\\n",
        "      % (start_average, end_average, 100 - (100*end_average/start_average)))\n",
        "\n",
        "    # Linux desktop notification when training has been completed\n",
        "    # title = \"Training complete - FSRCNN\"\n",
        "    # notification = \"{}-{}-{} done training after {} epochs\".format(self.image_size, self.label_size, self.stride, self.epoch);\n",
        "    # notify_command = 'notify-send \"{}\" \"{}\"'.format(title, notification)\n",
        "    # os.system(notify_command)\n",
        "\n",
        "  \n",
        "  def run_test(self):\n",
        "    nx, ny = test_input_setup(self)\n",
        "    data_dir = os.path.join('./{}'.format(self.checkpoint_dir), \"test.h5\")\n",
        "    test_data, test_label = read_data(data_dir)\n",
        "\n",
        "    print(\"Testing...\")\n",
        "\n",
        "    start_time = time.time()\n",
        "    result = self.pred.eval({self.images: test_data, self.labels: test_label, self.batch: nx * ny})\n",
        "    print(\"Took %.3f seconds\" % (time.time() - start_time))\n",
        "\n",
        "    result = merge(result, [nx, ny])\n",
        "    result = result.squeeze()\n",
        "    image_path = os.path.join(os.getcwd(), self.output_dir)\n",
        "    image_path = os.path.join(image_path, \"test_image.png\")\n",
        "\n",
        "    array_image_save(result * 255, image_path)\n",
        "\n",
        "  def model(self):\n",
        "    # Feature Extraction\n",
        "    conv_feature = self.prelu(tf.nn.conv2d(self.images, self.weights['w1'], strides=[1,1,1,1], padding='VALID') + self.biases['b1'], 1)\n",
        "\n",
        "    # Shrinking\n",
        "    conv_shrink = self.prelu(tf.nn.conv2d(conv_feature, self.weights['w2'], strides=[1,1,1,1], padding='SAME') + self.biases['b2'], 2)\n",
        "\n",
        "    # Mapping (# mapping layers = m)\n",
        "    prev_layer, m = conv_shrink, self.model_params[2]\n",
        "    for i in range(3, m + 3):\n",
        "      weights, biases = self.weights['w{}'.format(i)], self.biases['b{}'.format(i)]\n",
        "      prev_layer = self.prelu(tf.nn.conv2d(prev_layer, weights, strides=[1,1,1,1], padding='SAME') + biases, i)\n",
        "\n",
        "    # Expanding\n",
        "    expand_weights, expand_biases = self.weights['w{}'.format(m + 3)], self.biases['b{}'.format(m + 3)]\n",
        "    conv_expand = self.prelu(tf.nn.conv2d(prev_layer, expand_weights, strides=[1,1,1,1], padding='SAME') + expand_biases, 7)\n",
        "\n",
        "    # Deconvolution\n",
        "    deconv_output = [self.batch, self.label_size, self.label_size, self.c_dim]\n",
        "    deconv_stride = [1,  self.scale, self.scale, 1]\n",
        "    deconv_weights, deconv_biases = self.weights['w{}'.format(m + 4)], self.biases['b{}'.format(m + 4)]\n",
        "    conv_deconv = tf.nn.conv2d_transpose(conv_expand, deconv_weights, output_shape=deconv_output, strides=deconv_stride, padding='SAME') + deconv_biases\n",
        "\n",
        "    return conv_deconv\n",
        "\n",
        "  def prelu(self, _x, i):\n",
        "    \"\"\"\n",
        "    PreLU tensorflow implementation\n",
        "    \"\"\"\n",
        "    alphas = tf.get_variable('alpha{}'.format(i), _x.get_shape()[-1], initializer=tf.constant_initializer(0.0), dtype=tf.float32)\n",
        "    pos = tf.nn.relu(_x)\n",
        "    neg = alphas * (_x - abs(_x)) * 0.5\n",
        "\n",
        "    return pos + neg\n",
        "\n",
        "  def save(self, checkpoint_dir, step):\n",
        "    model_name = \"FSRCNN.model\"\n",
        "    model_dir = \"%s_%s\" % (\"fsrcnn\", self.label_size)\n",
        "    checkpoint_dir = os.path.join(checkpoint_dir, model_dir)\n",
        "\n",
        "    if not os.path.exists(checkpoint_dir):\n",
        "        os.makedirs(checkpoint_dir)\n",
        "\n",
        "    self.saver.save(self.sess,\n",
        "                    os.path.join(checkpoint_dir, model_name),\n",
        "                    global_step=step)\n",
        "    print(os.path.join(checkpoint_dir, model_name))\n",
        "\n",
        "  def load(self, checkpoint_dir):\n",
        "    print(\" [*] Reading checkpoints...\")\n",
        "    model_dir = \"%s_%s\" % (\"fsrcnn\", self.label_size)\n",
        "    checkpoint_dir = os.path.join(checkpoint_dir, model_dir)\n",
        "\n",
        "    ckpt = tf.train.get_checkpoint_state(checkpoint_dir)\n",
        "#     print(ckpt,ckpt.model_checkpoint_path)\n",
        "    if ckpt and ckpt.model_checkpoint_path:\n",
        "        ckpt_name = os.path.basename(ckpt.model_checkpoint_path)\n",
        "        self.saver.restore(self.sess, os.path.join(checkpoint_dir, ckpt_name))\n",
        "        return True\n",
        "    else:\n",
        "        return False"
      ],
      "execution_count": 0,
      "outputs": [
        {
          "output_type": "stream",
          "text": [
            "Overwriting model.py\n"
          ],
          "name": "stdout"
        }
      ]
    },
    {
      "cell_type": "code",
      "metadata": {
        "id": "CnPpwFJ83CX_",
        "colab_type": "code",
        "outputId": "4d03d5ae-d6c9-4264-b532-8f53a5499313",
        "colab": {
          "base_uri": "https://localhost:8080/",
          "height": 827
        }
      },
      "source": [
        "from model import FSRCNN\n",
        "\n",
        "import numpy as np\n",
        "import tensorflow as tf\n",
        "\n",
        "import pprint\n",
        "import os\n",
        "\n",
        "flags = tf.app.flags\n",
        "flags.DEFINE_boolean(\"fast\", False, \"Use the fast model (FSRCNN-s) [False]\")\n",
        "flags.DEFINE_integer(\"epoch\", 10, \"Number of epochs [10]\")\n",
        "flags.DEFINE_integer(\"batch_size\", 128, \"The size of batch images [128]\")\n",
        "flags.DEFINE_float(\"learning_rate\", 1e-3, \"The learning rate of gradient descent algorithm [1e-3]\")\n",
        "flags.DEFINE_float(\"momentum\", 0.9, \"The momentum value for the momentum SGD [0.9]\")\n",
        "flags.DEFINE_integer(\"c_dim\", 1, \"Dimension of image color [1]\")\n",
        "flags.DEFINE_integer(\"scale\", 3, \"The size of scale factor for preprocessing input image [3]\")\n",
        "flags.DEFINE_integer(\"stride\", 4, \"The size of stride to apply to input image [4]\")\n",
        "flags.DEFINE_string(\"checkpoint_dir\", \"checkpoint\", \"Name of checkpoint directory [checkpoint]\")\n",
        "flags.DEFINE_string(\"output_dir\", \"result\", \"Name of test output directory [result]\")\n",
        "flags.DEFINE_string(\"data_dir\", \"Train\", \"Name of data directory to train on [FastTrain]\")\n",
        "flags.DEFINE_boolean(\"train\", True, \"True for training, false for testing [True]\")\n",
        "flags.DEFINE_integer(\"threads\", 1, \"Number of processes to pre-process data with [1]\")\n",
        "flags.DEFINE_boolean(\"params\", False, \"Save weight and bias parameters [False]\")\n",
        "\n",
        "FLAGS = flags.FLAGS\n",
        "\n",
        "pp = pprint.PrettyPrinter()\n",
        "\n",
        "def main(_):\n",
        "  pp.pprint(flags.FLAGS.__flags)\n",
        "\n",
        "  if FLAGS.fast:\n",
        "    FLAGS.checkpoint_dir = 'fast_{}'.format(FLAGS.checkpoint_dir)\n",
        "  if not os.path.exists(FLAGS.checkpoint_dir):\n",
        "    os.makedirs(FLAGS.checkpoint_dir)\n",
        "  if not os.path.exists(FLAGS.output_dir):\n",
        "    os.makedirs(FLAGS.output_dir)\n",
        "\n",
        "\n",
        "  with tf.Session() as sess:\n",
        "    fsrcnn = FSRCNN(sess, config=FLAGS)\n",
        "    fsrcnn.run()\n",
        "    \n",
        "if __name__ == '__main__':\n",
        "  tf.app.run()"
      ],
      "execution_count": 0,
      "outputs": [
        {
          "output_type": "stream",
          "text": [
            "from model import FSRCNN\n",
            "\n",
            "import numpy as np\n",
            "import tensorflow as tf\n",
            "\n",
            "import pprint\n",
            "import os\n",
            "\n",
            "flags = tf.app.flags\n",
            "flags.DEFINE_boolean(\"fast\", False, \"Use the fast model (FSRCNN-s) [False]\")\n",
            "flags.DEFINE_integer(\"epoch\", 10, \"Number of epochs [10]\")\n",
            "flags.DEFINE_integer(\"batch_size\", 128, \"The size of batch images [128]\")\n",
            "flags.DEFINE_float(\"learning_rate\", 1e-3, \"The learning rate of gradient descent algorithm [1e-3]\")\n",
            "flags.DEFINE_float(\"momentum\", 0.9, \"The momentum value for the momentum SGD [0.9]\")\n",
            "flags.DEFINE_integer(\"c_dim\", 1, \"Dimension of image color [1]\")\n",
            "flags.DEFINE_integer(\"scale\", 3, \"The size of scale factor for preprocessing input image [3]\")\n",
            "flags.DEFINE_integer(\"stride\", 4, \"The size of stride to apply to input image [4]\")\n",
            "flags.DEFINE_string(\"checkpoint_dir\", \"checkpoint\", \"Name of checkpoint directory [checkpoint]\")\n",
            "flags.DEFINE_string(\"output_dir\", \"result\", \"Name of test output directory [result]\")\n",
            "flags.DEFINE_string(\"data_dir\", \"Train\", \"Name of data directory to train on [FastTrain]\")\n",
            "flags.DEFINE_boolean(\"train\", True, \"True for training, false for testing [True]\")\n",
            "flags.DEFINE_integer(\"threads\", 1, \"Number of processes to pre-process data with [1]\")\n",
            "flags.DEFINE_boolean(\"params\", False, \"Save weight and bias parameters [False]\")\n",
            "\n",
            "FLAGS = flags.FLAGS\n",
            "\n",
            "pp = pprint.PrettyPrinter()\n",
            "\n",
            "def main(_):\n",
            "  pp.pprint(flags.FLAGS.__flags)\n",
            "\n",
            "  if FLAGS.fast:\n",
            "    FLAGS.checkpoint_dir = 'fast_{}'.format(FLAGS.checkpoint_dir)\n",
            "  if not os.path.exists(FLAGS.checkpoint_dir):\n",
            "    os.makedirs(FLAGS.checkpoint_dir)\n",
            "  if not os.path.exists(FLAGS.output_dir):\n",
            "    os.makedirs(FLAGS.output_dir)\n",
            "\n",
            "\n",
            "  with tf.Session() as sess:\n",
            "    fsrcnn = FSRCNN(sess, config=FLAGS)\n",
            "    fsrcnn.run()\n",
            "    \n",
            "if __name__ == '__main__':\n",
            "  tf.app.run()"
          ],
          "name": "stdout"
        }
      ]
    },
    {
      "cell_type": "code",
      "metadata": {
        "id": "8EMuo5JR3Luu",
        "colab_type": "code",
        "colab": {}
      },
      "source": [
        ""
      ],
      "execution_count": 0,
      "outputs": []
    }
  ]
}